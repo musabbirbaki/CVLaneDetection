{
 "cells": [
  {
   "cell_type": "code",
   "execution_count": 1,
   "metadata": {},
   "outputs": [],
   "source": [
    "import numpy as np\n",
    "import cv2\n",
    "import math"
   ]
  },
  {
   "cell_type": "code",
   "execution_count": 2,
   "metadata": {},
   "outputs": [],
   "source": [
    "video_location = \"LaneDetectionTestVideo01.mp4\"\n",
    "lane_video = cv2.VideoCapture(video_location)\n",
    "ok, frame = lane_video.read()"
   ]
  },
  {
   "cell_type": "code",
   "execution_count": 3,
   "metadata": {},
   "outputs": [],
   "source": [
    "# White colour range (RGB)\n",
    "lower_w = np.array([100,100,200], dtype=np.uint8)\n",
    "upper_w = np.array([255,255,255], dtype=np.uint8)\n",
    "\n",
    "# Yellow colour range (RGB)\n",
    "lower_y = np.array([140, 130, 70], dtype=np.uint8)\n",
    "upper_y = np.array([250, 240, 120], dtype=np.uint8)"
   ]
  },
  {
   "cell_type": "code",
   "execution_count": 4,
   "metadata": {},
   "outputs": [
    {
     "data": {
      "text/plain": [
       "array([[0, 0, 0, ..., 0, 0, 0],\n",
       "       [0, 0, 0, ..., 0, 0, 0],\n",
       "       [0, 0, 0, ..., 0, 0, 0],\n",
       "       ...,\n",
       "       [0, 0, 0, ..., 0, 0, 0],\n",
       "       [0, 0, 0, ..., 0, 0, 0],\n",
       "       [0, 0, 0, ..., 0, 0, 0]], dtype=uint8)"
      ]
     },
     "execution_count": 4,
     "metadata": {},
     "output_type": "execute_result"
    }
   ],
   "source": [
    "# Creating the lane mask using the specs of the first frame in the video\n",
    "width = frame.shape[1]\n",
    "height = frame.shape[0]\n",
    "\n",
    "# Region of interest is based on the video/image, in this case this is where the lane typically was\n",
    "width_l = width // 7\n",
    "width_r = width - width // 7\n",
    "\n",
    "height_b = height\n",
    "height_t = height // 11 * 8\n",
    "\n",
    "# Triangle polygon\n",
    "tri_poly = np.array([\n",
    "                        [\n",
    "                            (width_l, height_b),\n",
    "                            (width_r, height_b), \n",
    "                            ((width_r + width_l) // 2, height_t)\n",
    "                        ]\n",
    "                    ])\n",
    "\n",
    "lane_mask = np.zeros((frame.shape[0], frame.shape[1]))\n",
    "lane_mask = np.uint8(lane_mask)\n",
    "cv2.fillPoly(lane_mask, tri_poly, 255)"
   ]
  },
  {
   "cell_type": "code",
   "execution_count": 5,
   "metadata": {},
   "outputs": [
    {
     "name": "stdout",
     "output_type": "stream",
     "text": [
      "Press q to quit.\n",
      "\n"
     ]
    }
   ],
   "source": [
    "print(\"Press q to quit.\\n\");\n",
    "\n",
    "# Reading the frames and displaying them in order (as a video)\n",
    "while (ok):\n",
    "    # Filtering the frame using a white and yellow mask\n",
    "    frame_rgb = cv2.cvtColor(frame, cv2.COLOR_BGR2RGB)\n",
    "    white_mask = cv2.inRange(frame_rgb, lower_w, upper_w)\n",
    "    yellow_mask = cv2.inRange(frame_rgb, lower_y, upper_y)\n",
    "    both_masks = cv2.bitwise_or(white_mask, yellow_mask)\n",
    "    frame_filtered = cv2.bitwise_and(frame, frame, mask = both_masks)\n",
    "    \n",
    "    # Converting the filtered image to gray\n",
    "    frame_gray = cv2.cvtColor(frame_filtered, cv2.COLOR_RGB2GRAY)\n",
    "\n",
    "    # Performing gaussian blur on the gray image\n",
    "    frame_blur = cv2.GaussianBlur(frame_gray, (5, 5), 0)\n",
    "    frame_blur_u8 = np.uint8(frame_blur)\n",
    "    \n",
    "    # Performing canny edge detection the blurred image\n",
    "    frame_edges = cv2.Canny(frame_blur_u8, 100, 300)  \n",
    "    \n",
    "    # Obtaining only the part of the image that we are interested in (the lane)\n",
    "    frame_lane = cv2.bitwise_and(frame_edges, lane_mask)\n",
    "\n",
    "    # Performing hough transform and obtaining the hough lines of frame_lane\n",
    "    lines = cv2.HoughLinesP(frame_lane, 2, np.pi / 180, 50, lines = np.array([]), minLineLength = 25, maxLineGap = 40)\n",
    "    \n",
    "    if lines is not None:\n",
    "        for line in lines:\n",
    "            # Getting coordinates from line to draw it\n",
    "            x1, y1, x2, y2 = line[0]\n",
    "            angle = math.atan2(y2 - y1, x2 - x1) * 180.0 / np.pi;\n",
    "            \n",
    "            # Ignoring lines that are close to horizontal\n",
    "            if(angle < -15 or angle > 15):\n",
    "                # Drawing a line in frame_gray based on arguments\n",
    "                cv2.line(frame, (x1, y1), (x2, y2), (255, 0, 0), 3)\n",
    "        \n",
    "    cv2.imshow(video_location, frame)\n",
    "\n",
    "    if (cv2.waitKey(1) & 0xFF == ord('q')):\n",
    "        break\n",
    "\n",
    "    ok, frame = lane_video.read() # return value of ok, and frame\n",
    "        \n",
    "# The following frees up resources and closes all windows\n",
    "lane_video.release()\n",
    "cv2.destroyAllWindows()"
   ]
  },
  {
   "cell_type": "code",
   "execution_count": null,
   "metadata": {},
   "outputs": [],
   "source": []
  }
 ],
 "metadata": {
  "kernelspec": {
   "display_name": "Python 3",
   "language": "python",
   "name": "python3"
  },
  "language_info": {
   "codemirror_mode": {
    "name": "ipython",
    "version": 3
   },
   "file_extension": ".py",
   "mimetype": "text/x-python",
   "name": "python",
   "nbconvert_exporter": "python",
   "pygments_lexer": "ipython3",
   "version": "3.6.7"
  }
 },
 "nbformat": 4,
 "nbformat_minor": 2
}
